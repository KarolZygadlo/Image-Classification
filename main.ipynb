{
 "cells": [
  {
   "cell_type": "code",
   "execution_count": 1,
   "id": "08d2c84d-4efb-44ec-a2be-cb28987c264b",
   "metadata": {},
   "outputs": [
    {
     "name": "stdout",
     "output_type": "stream",
     "text": [
      "test 123\n"
     ]
    }
   ],
   "source": [
    "print('test 123')"
   ]
  },
  {
   "cell_type": "code",
   "execution_count": null,
   "id": "7bc5f7db-96d9-4abe-96a0-e3025c4938f6",
   "metadata": {},
   "outputs": [],
   "source": []
  }
 ],
 "metadata": {
  "kernelspec": {
   "display_name": "imageclassification",
   "language": "python",
   "name": "imageclassification"
  },
  "language_info": {
   "codemirror_mode": {
    "name": "ipython",
    "version": 3
   },
   "file_extension": ".py",
   "mimetype": "text/x-python",
   "name": "python",
   "nbconvert_exporter": "python",
   "pygments_lexer": "ipython3",
   "version": "3.9.13"
  }
 },
 "nbformat": 4,
 "nbformat_minor": 5
}
