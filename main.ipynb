{
 "cells": [
  {
   "cell_type": "markdown",
   "id": "e4879a31-a14f-4df3-8d2a-e1b053beb673",
   "metadata": {
    "tags": []
   },
   "source": [
    "# 1. Instalacja oraz konfiguracja podstawowych paczek"
   ]
  },
  {
   "cell_type": "code",
   "execution_count": null,
   "id": "158368ba-87e3-469c-a6de-40e2e5805c3e",
   "metadata": {},
   "outputs": [],
   "source": [
    "!pip install tensorflow tensorflow-gpu opencv-python matplotlib"
   ]
  },
  {
   "cell_type": "code",
   "execution_count": null,
   "id": "cb9af187-8b6e-4a24-8961-218c7b4c506f",
   "metadata": {},
   "outputs": [],
   "source": [
    "!pip list"
   ]
  },
  {
   "cell_type": "code",
   "execution_count": null,
   "id": "fc866f9a-2227-47fb-a76a-31ea7dc41256",
   "metadata": {},
   "outputs": [],
   "source": [
    "import tensorflow as tf\n",
    "import os"
   ]
  },
  {
   "cell_type": "code",
   "execution_count": null,
   "id": "9d030cd0-c8a6-498a-8645-f517e8b2cf12",
   "metadata": {},
   "outputs": [],
   "source": [
    "# Poniższy kod zapobiega  przydzielaniu przez tensorflow całości pamięci GPU\n",
    "gpus = tf.config.experimental.list_physical_devices('GPU')\n",
    "for gpu in gpus: \n",
    "    tf.config.experimental.set_memory_growth(gpu, True)"
   ]
  },
  {
   "cell_type": "code",
   "execution_count": null,
   "id": "e1991763-4935-4897-b6da-ac3399e34752",
   "metadata": {},
   "outputs": [],
   "source": [
    "tf.config.list_physical_devices('GPU')"
   ]
  },
  {
   "cell_type": "markdown",
   "id": "7f214ff5-e865-41b9-acad-a5ec66512e14",
   "metadata": {},
   "source": [
    "# 2. Weryfikacja, kontrola oraz usunięcie z badania uszkodzonych, wadliwych zdjęć"
   ]
  },
  {
   "cell_type": "code",
   "execution_count": null,
   "id": "ce65ba70-11c3-4381-82f8-e5c9f8848a83",
   "metadata": {},
   "outputs": [],
   "source": [
    "import cv2\n",
    "import imghdr"
   ]
  },
  {
   "cell_type": "code",
   "execution_count": null,
   "id": "62e7b761-8cb7-4c69-9e5d-0487c8bf18a0",
   "metadata": {},
   "outputs": [],
   "source": [
    "data_dir = 'data'"
   ]
  },
  {
   "cell_type": "code",
   "execution_count": null,
   "id": "a938d33e-f9e6-4077-b683-33f5dcd4c1a4",
   "metadata": {},
   "outputs": [],
   "source": [
    "image_exts = ['jpeg', 'jpg', 'bmp', 'png']"
   ]
  },
  {
   "cell_type": "code",
   "execution_count": null,
   "id": "f19acb75-e4b4-4a58-b728-9b13c0f47d77",
   "metadata": {},
   "outputs": [],
   "source": [
    "for image_class in os.listdir(data_dir):\n",
    "    for image in os.listdir(os.path.join(data_dir, image_class)):\n",
    "        image_path = os.path.join(data_dir, image_class, image)\n",
    "        try:\n",
    "            img = cv2.imread(image_path) #sprawdzam czy mogę załadować zdjęcie do biblioteki opencv\n",
    "            tip = imghdr.what(image_path) #sprwadzam czy rozsrzeszenie zdjęcia pokrywa się z akceptowalnymi rozszerzeniami\n",
    "            if tip not in image_exts:\n",
    "                print('Zdjęcie posiada nieobsługiwane rozszerzenie {}'.format(image_path))\n",
    "                os.remove(image_path)\n",
    "        except Exception as e: \n",
    "            print('Wystąpił problem ze zdjęciem {}'.format(image_path))"
   ]
  },
  {
   "cell_type": "markdown",
   "id": "630dbffa-e191-42a9-9ad0-245025df63db",
   "metadata": {},
   "source": [
    "# 3. Ładowanie danych"
   ]
  },
  {
   "cell_type": "code",
   "execution_count": null,
   "id": "0951e873-0fec-4895-9ccd-d45f87e68e60",
   "metadata": {},
   "outputs": [],
   "source": [
    "import numpy as np\n",
    "from matplotlib import pyplot as plt"
   ]
  },
  {
   "cell_type": "code",
   "execution_count": null,
   "id": "ce20c2c4-7e14-4723-8d43-b43506785fba",
   "metadata": {},
   "outputs": [],
   "source": [
    "data = tf.keras.utils.image_dataset_from_directory('data') #wywołanie zwróci zestaw danych z wskazanego katalogu, ujednolici, zmniejszy zdjęcia"
   ]
  },
  {
   "cell_type": "code",
   "execution_count": null,
   "id": "5bd69e71-f65b-4461-ba62-f4ca054640d0",
   "metadata": {},
   "outputs": [],
   "source": [
    "data_iterator = data.as_numpy_iterator() #konwersja elementów zestawów danych na iterator, pozwoli nam uzyskać dostęp do poszczególnych danych"
   ]
  },
  {
   "cell_type": "code",
   "execution_count": null,
   "id": "90c67737-0d9a-4997-9cca-30652059882a",
   "metadata": {},
   "outputs": [],
   "source": [
    "batch = data_iterator.next() #dostęp do zestawu danych, pobranie pierwszej iteracji"
   ]
  },
  {
   "cell_type": "code",
   "execution_count": null,
   "id": "efc4aa0d-5b72-42b0-b6ed-047b2c7d6f96",
   "metadata": {},
   "outputs": [],
   "source": [
    "fig, ax = plt.subplots(ncols=4, figsize=(20,20))\n",
    "for idx, img in enumerate(batch[0][:4]):\n",
    "    ax[idx].imshow(img.astype(int))\n",
    "    ax[idx].title.set_text(batch[1][idx])"
   ]
  },
  {
   "cell_type": "markdown",
   "id": "c803a249-f87c-4537-947e-4688c1a66aed",
   "metadata": {},
   "source": [
    "# 4. Wstępne przetwarzanie danych"
   ]
  },
  {
   "cell_type": "code",
   "execution_count": null,
   "id": "2f71671e-6b34-4646-b34f-2818e24dc309",
   "metadata": {},
   "outputs": [],
   "source": [
    "# przeskalowanie danych, w celu optymalizacji\n",
    "data = data.map(lambda x,y: (x/255, y)) # funkcja .map umożliwia operacje na całym zestawie danych\n",
    "data.as_numpy_iterator().next()"
   ]
  },
  {
   "cell_type": "code",
   "execution_count": null,
   "id": "f4770671-6fb5-4d41-8423-e2f64b420438",
   "metadata": {},
   "outputs": [],
   "source": [
    "train_size = int(len(data)*.7) # część zestawu danych, która będzie odpowiedzalna za trenowanie modelu\n",
    "val_size = int(len(data)*.2)+1 # część zestwu danych odpowiedzialna za walidacje\n",
    "test_size = int(len(data)*.1)+1 # część zestawu danych odpowiedzialna za końcowe testy"
   ]
  },
  {
   "cell_type": "code",
   "execution_count": null,
   "id": "fee86fa2-bfa0-4b70-9c34-ff1c52e9e468",
   "metadata": {},
   "outputs": [],
   "source": [
    "train_size"
   ]
  },
  {
   "cell_type": "code",
   "execution_count": null,
   "id": "9354bcdd-da1a-491f-8d91-0c944d446cd5",
   "metadata": {},
   "outputs": [],
   "source": [
    "train = data.take(train_size)\n",
    "val = data.skip(train_size).take(val_size)\n",
    "test = data.skip(train_size+val_size).take(test_size)"
   ]
  },
  {
   "cell_type": "markdown",
   "id": "70c1d0d3-cafd-4645-9e4e-59e3fd84e64a",
   "metadata": {},
   "source": [
    "# 5. Budowa modelu głębokiego uczenia"
   ]
  },
  {
   "cell_type": "code",
   "execution_count": null,
   "id": "47dac391-462d-4eb7-9f4f-11944950e754",
   "metadata": {},
   "outputs": [],
   "source": [
    "from tensorflow.keras.models import Sequential\n",
    "from tensorflow.keras.layers import Conv2D, MaxPooling2D, Dense, Flatten, Dropout"
   ]
  },
  {
   "cell_type": "code",
   "execution_count": null,
   "id": "12af9f3f-2756-461f-a717-824eae22d3f9",
   "metadata": {},
   "outputs": [],
   "source": [
    "model = Sequential()"
   ]
  },
  {
   "cell_type": "code",
   "execution_count": null,
   "id": "7033c0a9-9712-4289-af46-0425eae14c94",
   "metadata": {},
   "outputs": [],
   "source": [
    "model.add(Conv2D(16, (3,3), 1, activation='relu', input_shape=(256,256,3)))\n",
    "model.add(MaxPooling2D())\n",
    "\n",
    "model.add(Conv2D(32, (3,3), 1, activation='relu'))\n",
    "model.add(MaxPooling2D())\n",
    "\n",
    "model.add(Conv2D(16, (3,3), 1, activation='relu'))\n",
    "model.add(MaxPooling2D())\n",
    "\n",
    "model.add(Flatten())\n",
    "model.add(Dense(256, activation='relu'))\n",
    "model.add(Dense(1, activation='sigmoid'))"
   ]
  },
  {
   "cell_type": "code",
   "execution_count": null,
   "id": "f57f1399-b6bc-4080-b0ca-912693feb790",
   "metadata": {},
   "outputs": [],
   "source": [
    "model.compile('adam', loss=tf.losses.BinaryCrossentropy(), metrics=['accuracy'])"
   ]
  },
  {
   "cell_type": "code",
   "execution_count": null,
   "id": "4d0f60be-743b-4da2-8d45-68951af37f66",
   "metadata": {},
   "outputs": [],
   "source": [
    "model.summary()"
   ]
  },
  {
   "cell_type": "markdown",
   "id": "8faa9ca9-07d1-46fc-8823-43290dcc5347",
   "metadata": {},
   "source": [
    "# 6. Trenowanie"
   ]
  },
  {
   "cell_type": "code",
   "execution_count": null,
   "id": "d3499b1e-7caf-4cc2-bfd1-f1f12c66f027",
   "metadata": {},
   "outputs": [],
   "source": [
    "logdir='logs'"
   ]
  },
  {
   "cell_type": "code",
   "execution_count": null,
   "id": "aaca48e4-21de-45c6-9e89-2536da8e4e6a",
   "metadata": {},
   "outputs": [],
   "source": [
    "tensorboard_callback = tf.keras.callbacks.TensorBoard(log_dir=logdir)"
   ]
  },
  {
   "cell_type": "code",
   "execution_count": null,
   "id": "b60de975-5c99-4093-9035-5d16a8e5706c",
   "metadata": {},
   "outputs": [],
   "source": [
    "hist = model.fit(train, epochs=5, validation_data=val, callbacks=[tensorboard_callback])"
   ]
  },
  {
   "cell_type": "markdown",
   "id": "4a44d7d8-a038-4e7b-a506-48bb9be14e1f",
   "metadata": {},
   "source": [
    "# 7. Badanie wydajności, wykaz strat"
   ]
  },
  {
   "cell_type": "code",
   "execution_count": null,
   "id": "05d818e0-2ced-408c-9188-d2ee90bf1e8a",
   "metadata": {},
   "outputs": [],
   "source": [
    "fig = plt.figure()\n",
    "plt.plot(hist.history['loss'], color='teal', label='strata treningowa')\n",
    "plt.plot(hist.history['val_loss'], color='orange', label='strata walidacji')\n",
    "fig.suptitle('Strata', fontsize=20)\n",
    "plt.legend(loc=\"upper left\")\n",
    "plt.show()"
   ]
  },
  {
   "cell_type": "markdown",
   "id": "750cba1e-319c-4be0-bb2e-a73f0483880b",
   "metadata": {},
   "source": [
    "# 8. Badanie wydajności, wykaz dokładności"
   ]
  },
  {
   "cell_type": "code",
   "execution_count": null,
   "id": "fc797cd5-5d2a-4961-8ebb-7194729a8308",
   "metadata": {},
   "outputs": [],
   "source": [
    "fig = plt.figure()\n",
    "plt.plot(hist.history['accuracy'], color='teal', label='dokładność treningowa')\n",
    "plt.plot(hist.history['val_accuracy'], color='orange', label='dokładność walidacji')\n",
    "fig.suptitle('Dokładność', fontsize=20)\n",
    "plt.legend(loc=\"upper left\")\n",
    "plt.show()"
   ]
  },
  {
   "cell_type": "markdown",
   "id": "94d68e1a-0d2d-4eb2-9d13-0591139519c7",
   "metadata": {},
   "source": [
    "# 9. Ocena wydajności modelu"
   ]
  },
  {
   "cell_type": "code",
   "execution_count": null,
   "id": "c569b125-adc0-4ef6-8915-59600c71d404",
   "metadata": {},
   "outputs": [],
   "source": [
    "from tensorflow.keras.metrics import Precision, Recall, BinaryAccuracy"
   ]
  },
  {
   "cell_type": "markdown",
   "id": "1c050034-6a75-4a56-bbc2-29c2933afd6e",
   "metadata": {},
   "source": [
    "# 10. Test"
   ]
  },
  {
   "cell_type": "code",
   "execution_count": null,
   "id": "425b4eef-ec6a-4224-ad3e-200d2ee862c2",
   "metadata": {},
   "outputs": [],
   "source": [
    "img = cv2.imread('testing/failure_4.png')\n",
    "plt.imshow(cv2.cvtColor(img, cv2.COLOR_BGR2RGB))\n",
    "plt.show()"
   ]
  },
  {
   "cell_type": "code",
   "execution_count": null,
   "id": "deeae0f6-aad6-4a68-b7a3-4c272c2ae790",
   "metadata": {},
   "outputs": [],
   "source": [
    "resize = tf.image.resize(img, (256,256))\n",
    "plt.imshow(resize.numpy().astype(int))\n",
    "plt.show()"
   ]
  },
  {
   "cell_type": "code",
   "execution_count": null,
   "id": "e74f83e3-11db-49b3-ad6f-90cb9eea04b0",
   "metadata": {},
   "outputs": [],
   "source": [
    "yhat  = model.predict(np.expand_dims(resize/255, 0))"
   ]
  },
  {
   "cell_type": "code",
   "execution_count": null,
   "id": "c3b8cc21-af0f-4f2d-8ff2-ffd6b6863d0f",
   "metadata": {},
   "outputs": [],
   "source": [
    "yhat"
   ]
  },
  {
   "cell_type": "code",
   "execution_count": null,
   "id": "e82b4ac6-4be3-4656-a5d4-f1bd5027cb7c",
   "metadata": {},
   "outputs": [],
   "source": [
    "if yhat > 0.5:\n",
    "    print(f'Wskazany obraz został sklasyfikowany jako część prawidłowa')\n",
    "else:\n",
    "    print(f'Wskazany obraz został sklasyfikowany jako część uszkodzona')"
   ]
  },
  {
   "cell_type": "markdown",
   "id": "dc2a954d-7739-442f-bace-08b00d88de3d",
   "metadata": {},
   "source": [
    "# 9. Zapis modelu"
   ]
  },
  {
   "cell_type": "code",
   "execution_count": null,
   "id": "e0a0c8ef-9012-4af2-90a3-3e23e23dbca6",
   "metadata": {},
   "outputs": [],
   "source": [
    "from tensorflow.keras.models import load_model"
   ]
  },
  {
   "cell_type": "code",
   "execution_count": null,
   "id": "1e13f27a-b599-4bbd-9f3f-a0e3c9dad6d0",
   "metadata": {},
   "outputs": [],
   "source": [
    "model.save(os.path.join('models', 'imageclassicationversionlive.h5'))"
   ]
  },
  {
   "cell_type": "code",
   "execution_count": null,
   "id": "e9d9f913-e23e-42d8-a4a5-9ffce0468f8e",
   "metadata": {},
   "outputs": [],
   "source": [
    "new_model = load_model(os.path.join('models', 'imageclassicationversionlive.h5'))\n",
    "\n",
    "img = cv2.imread('testing/failure_4.png')\n",
    "plt.imshow(cv2.cvtColor(img, cv2.COLOR_BGR2RGB))\n",
    "plt.show()\n",
    "resize = tf.image.resize(img, (256,256))\n",
    "plt.imshow(resize.numpy().astype(int))\n",
    "plt.show()\n",
    "\n",
    "yhat = model.predict(np.expand_dims(resize/255, 0))\n",
    "if yhat > 0.5:\n",
    "    print(f'Wskazany obraz został sklasyfikowany jako część prawidłowa')\n",
    "else:\n",
    "    print(f'Wskazany obraz został sklasyfikowany jako część uszkodzona')"
   ]
  },
  {
   "attachments": {},
   "cell_type": "markdown",
   "id": "c64797c0",
   "metadata": {},
   "source": [
    "# 10. Ocena modelu"
   ]
  },
  {
   "cell_type": "code",
   "execution_count": null,
   "id": "4d0147e4",
   "metadata": {},
   "outputs": [],
   "source": [
    "new_model = load_model(os.path.join('models', 'imageclassicationversionlive.h5'))\n",
    "from sklearn.metrics import classification_report\n",
    "\n",
    "# Ewaluacja modelu na zbiorze testowym\n",
    "y_test = []\n",
    "y_pred = []\n",
    "\n",
    "for images, labels in test:\n",
    "    predictions = model.predict(images)\n",
    "    predictions = np.round(predictions).reshape(-1)\n",
    "    y_test.extend(labels.numpy())\n",
    "    y_pred.extend(predictions)\n",
    "\n",
    "# Obliczenie precyzji, czułości (recall) i F1-score\n",
    "report = classification_report(y_test, y_pred, target_names=['uszkodzony', 'prawidłowy'], output_dict=True)\n",
    "print(report)\n",
    "\n",
    "# Wizualizacja raportu klasyfikacji\n",
    "import seaborn as sns\n",
    "import pandas as pd\n",
    "\n",
    "report_df = pd.DataFrame(report).transpose()\n",
    "report_df = report_df[:-3]  # Usunięcie zbędnych wierszy (accuracy, macro avg, weighted avg)\n",
    "\n",
    "plt.figure(figsize=(8, 4))\n",
    "sns.barplot(x=report_df.index, y='f1-score', data=report_df)\n",
    "plt.ylim(0, 1)\n",
    "plt.title('F1-score dla poszczególnych klas')\n",
    "plt.xlabel('Klasy')\n",
    "plt.ylabel('F1-score')\n",
    "plt.show()"
   ]
  }
 ],
 "metadata": {
  "kernelspec": {
   "display_name": "Python 3",
   "language": "python",
   "name": "python3"
  },
  "language_info": {
   "codemirror_mode": {
    "name": "ipython",
    "version": 3
   },
   "file_extension": ".py",
   "mimetype": "text/x-python",
   "name": "python",
   "nbconvert_exporter": "python",
   "pygments_lexer": "ipython3",
   "version": "3.11.2"
  }
 },
 "nbformat": 4,
 "nbformat_minor": 5
}
