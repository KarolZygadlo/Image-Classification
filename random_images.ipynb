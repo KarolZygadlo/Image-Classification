{
 "cells": [
  {
   "cell_type": "code",
   "execution_count": 2,
   "metadata": {},
   "outputs": [],
   "source": [
    "import os\n",
    "import cv2\n",
    "import imghdr\n",
    "import random\n",
    "import shutil\n",
    "from matplotlib import pyplot as plt"
   ]
  },
  {
   "cell_type": "code",
   "execution_count": 3,
   "metadata": {},
   "outputs": [],
   "source": [
    "data_dir = 'data'\n",
    "image_exts = ['jpeg', 'jpg', 'bmp', 'png']\n",
    "num_images_to_select = 100  # Liczba zdjęć do wybrania\n",
    "selected_images = []"
   ]
  },
  {
   "cell_type": "code",
   "execution_count": 4,
   "metadata": {},
   "outputs": [],
   "source": [
    "for image_class in os.listdir(data_dir):\n",
    "    class_images = []\n",
    "    for image in os.listdir(os.path.join(data_dir, image_class)):\n",
    "        image_path = os.path.join(data_dir, image_class, image)\n",
    "        try:\n",
    "            img = cv2.imread(image_path)  # sprawdzam czy mogę załadować zdjęcie do biblioteki opencv\n",
    "            tip = imghdr.what(image_path)  # sprwadzam czy rozsrzeszenie zdjęcia pokrywa się z akceptowalnymi rozszerzeniami\n",
    "            if tip not in image_exts:\n",
    "                print('Zdjęcie posiada nieobsługiwane rozszerzenie {}'.format(image_path))\n",
    "                os.remove(image_path)\n",
    "            else:\n",
    "                class_images.append(image_path)\n",
    "        except Exception as e:\n",
    "            print('Wystąpił problem ze zdjęciem {}'.format(image_path))\n",
    "\n",
    "    if len(class_images) > num_images_to_select:\n",
    "        random_images = random.sample(class_images, num_images_to_select)\n",
    "        selected_images.extend(random_images)\n",
    "    else:\n",
    "        selected_images.extend(class_images)"
   ]
  },
  {
   "cell_type": "code",
   "execution_count": null,
   "metadata": {},
   "outputs": [],
   "source": [
    "# Usuń folder selected_data_dir, jeśli istnieje\n",
    "selected_data_dir = 'selected_data'\n",
    "if os.path.exists(selected_data_dir):\n",
    "    shutil.rmtree(selected_data_dir)\n",
    "\n",
    "# Stwórz folder selected_data_dir\n",
    "os.makedirs(selected_data_dir)"
   ]
  },
  {
   "cell_type": "code",
   "execution_count": 5,
   "metadata": {},
   "outputs": [],
   "source": [
    "# Zapisz wybrane zdjęcia do nowego katalogu\n",
    "selected_data_dir = 'selected_data'\n",
    "os.makedirs(selected_data_dir, exist_ok=True)\n",
    "\n",
    "for image_path in selected_images:\n",
    "    image_class = os.path.basename(os.path.dirname(image_path))\n",
    "    class_dir = os.path.join(selected_data_dir, image_class)\n",
    "    os.makedirs(class_dir, exist_ok=True)\n",
    "    os.link(image_path, os.path.join(class_dir, os.path.basename(image_path)))"
   ]
  }
 ],
 "metadata": {
  "kernelspec": {
   "display_name": ".venv",
   "language": "python",
   "name": "python3"
  },
  "language_info": {
   "codemirror_mode": {
    "name": "ipython",
    "version": 3
   },
   "file_extension": ".py",
   "mimetype": "text/x-python",
   "name": "python",
   "nbconvert_exporter": "python",
   "pygments_lexer": "ipython3",
   "version": "3.11.3"
  },
  "orig_nbformat": 4
 },
 "nbformat": 4,
 "nbformat_minor": 2
}
